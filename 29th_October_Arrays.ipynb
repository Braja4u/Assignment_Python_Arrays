{
 "cells": [
  {
   "cell_type": "code",
   "execution_count": 16,
   "id": "02469b81-8cb5-4283-bffa-bc624807d8c5",
   "metadata": {},
   "outputs": [
    {
     "name": "stdout",
     "output_type": "stream",
     "text": [
      "Output = True\n"
     ]
    }
   ],
   "source": [
    "#   1.Given an array, check if it contains any duplicates or not.\n",
    "#   arr = [1, 2, 4, 2, 5, 9]\n",
    "#   Output = True\n",
    "\n",
    "def checkDuplicatesWithinK(arr,  n,  k):\n",
    " \n",
    "    # traversing the input array\n",
    "    for i in range(n):\n",
    "        j = i + 1\n",
    "        range_ = k\n",
    "         \n",
    "        # searching in next k-1 elements if its duplicate\n",
    "        # is present or not\n",
    "        while (range_ > 0 and j < n):\n",
    "            if (arr[i] == arr[j]):\n",
    "                return True\n",
    "            j += 1\n",
    "            range_ -= 1\n",
    " \n",
    "    return False\n",
    "\n",
    " \n",
    "arr = [1, 2, 4, 2, 5, 9]\n",
    "n = len(arr)\n",
    "if (checkDuplicatesWithinK(arr, n, 3) == True):\n",
    "    print(\"Output = True\")\n",
    "else:\n",
    "    print(\"Output = False\")\n",
    "   "
   ]
  },
  {
   "cell_type": "code",
   "execution_count": 15,
   "id": "d2055766-2d48-43f9-b077-693ee341499c",
   "metadata": {},
   "outputs": [
    {
     "name": "stdout",
     "output_type": "stream",
     "text": [
      "5 6 7 1 2 3 4 \n",
      "\n"
     ]
    }
   ],
   "source": [
    "#  2. Given an array and an integer k, rotate the array to the right by k steps.\n",
    "#  arr = [1, 2, 3, 4, 5, 6, 7] k = 3\n",
    "#  Output = [5, 6, 7, 1, 2, 3, 4]\n",
    "\n",
    "\n",
    "# Function to rightRotate array\n",
    "def RightRotate(a, n, k):\n",
    "\n",
    "\t# If rotation is greater \n",
    "\t# than size of array\n",
    "\tk = k % n;\n",
    "\n",
    "\tfor i in range(0, n):\n",
    "\n",
    "\t\tif(i < k):\n",
    "\n",
    "\t\t\t# Printing rightmost \n",
    "\t\t\t# kth elements\n",
    "\t\t\tprint(a[n + i - k], end = \" \");\n",
    "\n",
    "\t\telse:\n",
    "\n",
    "\t\t\t# Prints array after\n",
    "\t\t\t# 'k' elements\n",
    "\t\t\tprint(a[i - k], end = \" \");\n",
    "\n",
    "\tprint(\"\\n\");\n",
    "\n",
    "# Driver code\n",
    "Array = [ 1, 2, 3, 4, 5, 6, 7 ];\n",
    "N = len(Array);\n",
    "K = 3;\n",
    "\t\n",
    "RightRotate(Array, N, K);\n"
   ]
  },
  {
   "cell_type": "code",
   "execution_count": 12,
   "id": "94db851e-a7e8-422c-a867-d3385dcc0d00",
   "metadata": {},
   "outputs": [
    {
     "name": "stdout",
     "output_type": "stream",
     "text": [
      "Output = [12, 9, 7, 5, 4, 2]\n"
     ]
    }
   ],
   "source": [
    "#  3. Reverse the given array in-place, means without using any extra data structure.\n",
    "#  arr = [2, 4, 5, 7, 9, 12]\n",
    "#  Output = [12, 9, 7, 5, 4, 2]\n",
    "\n",
    "\n",
    "def reverse_list(arr):\n",
    "\tleft = 0\n",
    "\tright = len(arr)-1\n",
    "\twhile (left < right):\n",
    "\t\t# Swap\n",
    "\t\ttemp = arr[left]\n",
    "\t\tarr[left] = arr[right]\n",
    "\t\tarr[right] = temp\n",
    "\t\tleft += 1\n",
    "\t\tright -= 1\n",
    "\n",
    "\treturn arr\n",
    "\n",
    "arr = [2, 4, 5, 7, 9, 12]\n",
    "print(\"Output =\",reverse_list(arr))\n",
    "\n"
   ]
  },
  {
   "cell_type": "code",
   "execution_count": 17,
   "id": "de1013ee-dd9b-4144-ba72-954a40831478",
   "metadata": {},
   "outputs": [
    {
     "name": "stdout",
     "output_type": "stream",
     "text": [
      "Output =  20\n"
     ]
    }
   ],
   "source": [
    "#  4. Given an array of integers, find the maximum element in an array\n",
    "#  arr = [10, 5, 20, 8, 15]\n",
    "#  Output = 20\n",
    "\n",
    "def largest(arr, n):\n",
    "\n",
    "\t# Initialize maximum element\n",
    "\tmax = arr[0]\n",
    "\n",
    "\t# Traverse array elements from second\n",
    "\t# and compare every element with\n",
    "\t# current max\n",
    "\tfor i in range(1, n):\n",
    "\t\tif arr[i] > max:\n",
    "\t\t\tmax = arr[i]\n",
    "\treturn max\n",
    "\n",
    "\n",
    "# Driver Code\n",
    "arr = [10, 5, 20, 8, 15]\n",
    "n = len(arr)\n",
    "Ans = largest(arr, n)\n",
    "print(\"Output = \", Ans)\n"
   ]
  },
  {
   "cell_type": "code",
   "execution_count": 20,
   "id": "734f7c7c-732c-4f7c-807a-b8f8ecc568b1",
   "metadata": {},
   "outputs": [
    {
     "name": "stdout",
     "output_type": "stream",
     "text": [
      "1 2 3 4 5 "
     ]
    }
   ],
   "source": [
    "#  5. Given a sorted array, remove the duplicate element without using any extra data structure.\n",
    "#  arr = [1, 1, 2, 2, 2, 3, 3, 4, 4, 4, 5, 5]\n",
    "#  Output = [1, 2, 3, 4, 5]\n",
    "\n",
    "\n",
    "def removeDuplicates(arr, n):\n",
    "\n",
    "\t# Return, if array is empty or contains\n",
    "\t# a single element\n",
    "\tif n == 0 or n == 1:\n",
    "\t\treturn n\n",
    "\n",
    "\ttemp = list(range(n))\n",
    "\n",
    "\t# Start traversing elements\n",
    "\tj = 0\n",
    "\tfor i in range(0, n-1):\n",
    "\n",
    "\t\t# If current element is not equal to next\n",
    "\t\t# then store that current element\n",
    "\t\tif arr[i] != arr[i+1]:\n",
    "\t\t\ttemp[j] = arr[i]\n",
    "\t\t\tj += 1\n",
    "\n",
    "\t# Store the last element as whether it is unique\n",
    "\t# or repeated, it isn't stored previously\n",
    "\ttemp[j] = arr[n-1]\n",
    "\tj += 1\n",
    "\n",
    "\t# Modify original array\n",
    "\tfor i in range(0, j):\n",
    "\t\tarr[i] = temp[i]\n",
    "\n",
    "\treturn j\n",
    "\n",
    "\n",
    "# Driver code\n",
    "if __name__ == '__main__':\n",
    "\tarr = [1, 1, 2, 2, 2, 3, 3, 4, 4, 4, 5, 5]\n",
    "\tn = len(arr)\n",
    "\n",
    "\t# removeDuplicates() returns new size of array.\n",
    "\tn = removeDuplicates(arr, n)\n",
    "\n",
    "\t# Print updated array\n",
    "\tfor i in range(n):\n",
    "\t\tprint(\"%d\" % (arr[i]), end=\" \")\n",
    "\n"
   ]
  },
  {
   "cell_type": "code",
   "execution_count": null,
   "id": "1502a529-0a75-4a97-9cab-6216e442de33",
   "metadata": {},
   "outputs": [],
   "source": []
  },
  {
   "cell_type": "code",
   "execution_count": null,
   "id": "c3df4d71-7dce-4b16-967a-2a8c094045ad",
   "metadata": {},
   "outputs": [],
   "source": []
  }
 ],
 "metadata": {
  "kernelspec": {
   "display_name": "Python 3 (ipykernel)",
   "language": "python",
   "name": "python3"
  },
  "language_info": {
   "codemirror_mode": {
    "name": "ipython",
    "version": 3
   },
   "file_extension": ".py",
   "mimetype": "text/x-python",
   "name": "python",
   "nbconvert_exporter": "python",
   "pygments_lexer": "ipython3",
   "version": "3.10.8"
  }
 },
 "nbformat": 4,
 "nbformat_minor": 5
}
